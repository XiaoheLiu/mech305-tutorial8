{
 "cells": [
  {
   "cell_type": "markdown",
   "metadata": {},
   "source": [
    "# Tutorial 8. Machine Learning - Python Version\n",
    "Athena Liu\n",
    "\n",
    "March 26, 2020"
   ]
  },
  {
   "cell_type": "code",
   "execution_count": 18,
   "metadata": {},
   "outputs": [],
   "source": [
    "import numpy as np\n",
    "import pandas as pd\n",
    "%matplotlib inline\n",
    "import matplotlib.pyplot as plt"
   ]
  },
  {
   "cell_type": "markdown",
   "metadata": {},
   "source": [
    "## Step 1: Frame the Problem\n",
    "See LiveScript.\n",
    "\n",
    "## Step 2: Get the Data"
   ]
  },
  {
   "cell_type": "code",
   "execution_count": 3,
   "metadata": {},
   "outputs": [],
   "source": [
    "data = pd.read_csv(\"Car_Advertisement.csv\");\n",
    "m = len(data) # 400"
   ]
  },
  {
   "cell_type": "markdown",
   "metadata": {},
   "source": [
    "### Train-Test Split "
   ]
  },
  {
   "cell_type": "code",
   "execution_count": 8,
   "metadata": {},
   "outputs": [
    {
     "data": {
      "text/html": [
       "<div>\n",
       "<style scoped>\n",
       "    .dataframe tbody tr th:only-of-type {\n",
       "        vertical-align: middle;\n",
       "    }\n",
       "\n",
       "    .dataframe tbody tr th {\n",
       "        vertical-align: top;\n",
       "    }\n",
       "\n",
       "    .dataframe thead th {\n",
       "        text-align: right;\n",
       "    }\n",
       "</style>\n",
       "<table border=\"1\" class=\"dataframe\">\n",
       "  <thead>\n",
       "    <tr style=\"text-align: right;\">\n",
       "      <th></th>\n",
       "      <th>UserID</th>\n",
       "      <th>Gender</th>\n",
       "      <th>Age</th>\n",
       "      <th>EstimatedSalary</th>\n",
       "      <th>Purchased</th>\n",
       "    </tr>\n",
       "  </thead>\n",
       "  <tbody>\n",
       "    <tr>\n",
       "      <th>100</th>\n",
       "      <td>15766289</td>\n",
       "      <td>Male</td>\n",
       "      <td>27</td>\n",
       "      <td>88000</td>\n",
       "      <td>Not Purchased</td>\n",
       "    </tr>\n",
       "    <tr>\n",
       "      <th>101</th>\n",
       "      <td>15593014</td>\n",
       "      <td>Male</td>\n",
       "      <td>28</td>\n",
       "      <td>59000</td>\n",
       "      <td>Not Purchased</td>\n",
       "    </tr>\n",
       "    <tr>\n",
       "      <th>194</th>\n",
       "      <td>15689751</td>\n",
       "      <td>Male</td>\n",
       "      <td>28</td>\n",
       "      <td>89000</td>\n",
       "      <td>Not Purchased</td>\n",
       "    </tr>\n",
       "    <tr>\n",
       "      <th>173</th>\n",
       "      <td>15581654</td>\n",
       "      <td>Female</td>\n",
       "      <td>34</td>\n",
       "      <td>43000</td>\n",
       "      <td>Not Purchased</td>\n",
       "    </tr>\n",
       "    <tr>\n",
       "      <th>358</th>\n",
       "      <td>15573926</td>\n",
       "      <td>Male</td>\n",
       "      <td>40</td>\n",
       "      <td>71000</td>\n",
       "      <td>Purchased</td>\n",
       "    </tr>\n",
       "  </tbody>\n",
       "</table>\n",
       "</div>"
      ],
      "text/plain": [
       "       UserID  Gender  Age  EstimatedSalary      Purchased\n",
       "100  15766289    Male   27            88000  Not Purchased\n",
       "101  15593014    Male   28            59000  Not Purchased\n",
       "194  15689751    Male   28            89000  Not Purchased\n",
       "173  15581654  Female   34            43000  Not Purchased\n",
       "358  15573926    Male   40            71000      Purchased"
      ]
     },
     "execution_count": 8,
     "metadata": {},
     "output_type": "execute_result"
    }
   ],
   "source": [
    "from sklearn.model_selection import train_test_split\n",
    "train_data, test_data = train_test_split(data, test_size=0.2)\n",
    "train_data.head()"
   ]
  },
  {
   "cell_type": "markdown",
   "metadata": {},
   "source": [
    "## Step 3: Explore the Training Data"
   ]
  },
  {
   "cell_type": "code",
   "execution_count": 14,
   "metadata": {},
   "outputs": [
    {
     "name": "stdout",
     "output_type": "stream",
     "text": [
      "<class 'pandas.core.frame.DataFrame'>\n",
      "Int64Index: 320 entries, 100 to 62\n",
      "Data columns (total 5 columns):\n",
      "UserID             320 non-null int64\n",
      "Gender             320 non-null object\n",
      "Age                320 non-null int64\n",
      "EstimatedSalary    320 non-null int64\n",
      "Purchased          320 non-null object\n",
      "dtypes: int64(3), object(2)\n",
      "memory usage: 15.0+ KB\n"
     ]
    }
   ],
   "source": [
    "train_data.info()"
   ]
  },
  {
   "cell_type": "markdown",
   "metadata": {},
   "source": [
    "Summary of each numerical attribute:"
   ]
  },
  {
   "cell_type": "code",
   "execution_count": 13,
   "metadata": {},
   "outputs": [
    {
     "data": {
      "text/html": [
       "<div>\n",
       "<style scoped>\n",
       "    .dataframe tbody tr th:only-of-type {\n",
       "        vertical-align: middle;\n",
       "    }\n",
       "\n",
       "    .dataframe tbody tr th {\n",
       "        vertical-align: top;\n",
       "    }\n",
       "\n",
       "    .dataframe thead th {\n",
       "        text-align: right;\n",
       "    }\n",
       "</style>\n",
       "<table border=\"1\" class=\"dataframe\">\n",
       "  <thead>\n",
       "    <tr style=\"text-align: right;\">\n",
       "      <th></th>\n",
       "      <th>UserID</th>\n",
       "      <th>Age</th>\n",
       "      <th>EstimatedSalary</th>\n",
       "    </tr>\n",
       "  </thead>\n",
       "  <tbody>\n",
       "    <tr>\n",
       "      <th>count</th>\n",
       "      <td>3.200000e+02</td>\n",
       "      <td>320.000000</td>\n",
       "      <td>320.000000</td>\n",
       "    </tr>\n",
       "    <tr>\n",
       "      <th>mean</th>\n",
       "      <td>1.569258e+07</td>\n",
       "      <td>37.925000</td>\n",
       "      <td>70053.125000</td>\n",
       "    </tr>\n",
       "    <tr>\n",
       "      <th>std</th>\n",
       "      <td>7.097693e+04</td>\n",
       "      <td>10.275545</td>\n",
       "      <td>33746.152544</td>\n",
       "    </tr>\n",
       "    <tr>\n",
       "      <th>min</th>\n",
       "      <td>1.556669e+07</td>\n",
       "      <td>18.000000</td>\n",
       "      <td>15000.000000</td>\n",
       "    </tr>\n",
       "    <tr>\n",
       "      <th>25%</th>\n",
       "      <td>1.563077e+07</td>\n",
       "      <td>30.000000</td>\n",
       "      <td>44750.000000</td>\n",
       "    </tr>\n",
       "    <tr>\n",
       "      <th>50%</th>\n",
       "      <td>1.569722e+07</td>\n",
       "      <td>37.000000</td>\n",
       "      <td>69500.000000</td>\n",
       "    </tr>\n",
       "    <tr>\n",
       "      <th>75%</th>\n",
       "      <td>1.574955e+07</td>\n",
       "      <td>46.000000</td>\n",
       "      <td>88000.000000</td>\n",
       "    </tr>\n",
       "    <tr>\n",
       "      <th>max</th>\n",
       "      <td>1.581524e+07</td>\n",
       "      <td>60.000000</td>\n",
       "      <td>150000.000000</td>\n",
       "    </tr>\n",
       "  </tbody>\n",
       "</table>\n",
       "</div>"
      ],
      "text/plain": [
       "             UserID         Age  EstimatedSalary\n",
       "count  3.200000e+02  320.000000       320.000000\n",
       "mean   1.569258e+07   37.925000     70053.125000\n",
       "std    7.097693e+04   10.275545     33746.152544\n",
       "min    1.556669e+07   18.000000     15000.000000\n",
       "25%    1.563077e+07   30.000000     44750.000000\n",
       "50%    1.569722e+07   37.000000     69500.000000\n",
       "75%    1.574955e+07   46.000000     88000.000000\n",
       "max    1.581524e+07   60.000000    150000.000000"
      ]
     },
     "execution_count": 13,
     "metadata": {},
     "output_type": "execute_result"
    }
   ],
   "source": [
    "train_data.describe()"
   ]
  },
  {
   "cell_type": "markdown",
   "metadata": {},
   "source": [
    "Value counts of categorical attributes:"
   ]
  },
  {
   "cell_type": "code",
   "execution_count": 15,
   "metadata": {},
   "outputs": [
    {
     "data": {
      "text/plain": [
       "Female    164\n",
       "Male      156\n",
       "Name: Gender, dtype: int64"
      ]
     },
     "execution_count": 15,
     "metadata": {},
     "output_type": "execute_result"
    }
   ],
   "source": [
    "train_data[\"Gender\"].value_counts()"
   ]
  },
  {
   "cell_type": "code",
   "execution_count": 16,
   "metadata": {},
   "outputs": [
    {
     "data": {
      "text/plain": [
       "Not Purchased    206\n",
       "Purchased        114\n",
       "Name: Purchased, dtype: int64"
      ]
     },
     "execution_count": 16,
     "metadata": {},
     "output_type": "execute_result"
    }
   ],
   "source": [
    "train_data[\"Purchased\"].value_counts()"
   ]
  },
  {
   "cell_type": "code",
   "execution_count": 39,
   "metadata": {},
   "outputs": [
    {
     "data": {
      "text/html": [
       "<div>\n",
       "<style scoped>\n",
       "    .dataframe tbody tr th:only-of-type {\n",
       "        vertical-align: middle;\n",
       "    }\n",
       "\n",
       "    .dataframe tbody tr th {\n",
       "        vertical-align: top;\n",
       "    }\n",
       "\n",
       "    .dataframe thead th {\n",
       "        text-align: right;\n",
       "    }\n",
       "</style>\n",
       "<table border=\"1\" class=\"dataframe\">\n",
       "  <thead>\n",
       "    <tr style=\"text-align: right;\">\n",
       "      <th></th>\n",
       "      <th>Gender</th>\n",
       "      <th>Age</th>\n",
       "      <th>EstimatedSalary</th>\n",
       "    </tr>\n",
       "  </thead>\n",
       "  <tbody>\n",
       "    <tr>\n",
       "      <th>100</th>\n",
       "      <td>Male</td>\n",
       "      <td>27</td>\n",
       "      <td>88000</td>\n",
       "    </tr>\n",
       "    <tr>\n",
       "      <th>101</th>\n",
       "      <td>Male</td>\n",
       "      <td>28</td>\n",
       "      <td>59000</td>\n",
       "    </tr>\n",
       "    <tr>\n",
       "      <th>194</th>\n",
       "      <td>Male</td>\n",
       "      <td>28</td>\n",
       "      <td>89000</td>\n",
       "    </tr>\n",
       "    <tr>\n",
       "      <th>173</th>\n",
       "      <td>Female</td>\n",
       "      <td>34</td>\n",
       "      <td>43000</td>\n",
       "    </tr>\n",
       "    <tr>\n",
       "      <th>358</th>\n",
       "      <td>Male</td>\n",
       "      <td>40</td>\n",
       "      <td>71000</td>\n",
       "    </tr>\n",
       "  </tbody>\n",
       "</table>\n",
       "</div>"
      ],
      "text/plain": [
       "     Gender  Age  EstimatedSalary\n",
       "100    Male   27            88000\n",
       "101    Male   28            59000\n",
       "194    Male   28            89000\n",
       "173  Female   34            43000\n",
       "358    Male   40            71000"
      ]
     },
     "execution_count": 39,
     "metadata": {},
     "output_type": "execute_result"
    }
   ],
   "source": [
    "Y_train = train_data[\"Purchased\"].copy()\n",
    "X_train = train_data.drop([\"Purchased\", \"UserID\"], axis=1) \n",
    "m_train = len(X_train)\n",
    "X_train.head()"
   ]
  },
  {
   "cell_type": "code",
   "execution_count": 40,
   "metadata": {},
   "outputs": [
    {
     "data": {
      "text/plain": [
       "100    Not Purchased\n",
       "101    Not Purchased\n",
       "194    Not Purchased\n",
       "173    Not Purchased\n",
       "358        Purchased\n",
       "Name: Purchased, dtype: object"
      ]
     },
     "execution_count": 40,
     "metadata": {},
     "output_type": "execute_result"
    }
   ],
   "source": [
    "Y_train.head()"
   ]
  },
  {
   "cell_type": "markdown",
   "metadata": {},
   "source": [
    "### Visualize the data "
   ]
  },
  {
   "cell_type": "code",
   "execution_count": 94,
   "metadata": {},
   "outputs": [
    {
     "data": {
      "image/png": "[encoded data removed]",
      "text/plain": [
       "<Figure size 432x288 with 1 Axes>"
      ]
     },
     "metadata": {
      "needs_background": "light"
     },
     "output_type": "display_data"
    }
   ],
   "source": [
    "def plot_scatter_with_labels(X1, X2, Y, xlabel=\"Age\", ylabel=\"Estimated Salary\"): \n",
    "    df = pd.DataFrame(dict(x1=X1, x2=X2, label=Y))\n",
    "    groups = df.groupby(\"label\")\n",
    "    for name, group in groups:\n",
    "        plt.plot(group.x1, group.x2, \n",
    "                 marker=\"o\", linestyle=\"\", ms=3,\n",
    "                 label=name)\n",
    "    plt.legend()\n",
    "    plt.xlabel(xlabel)\n",
    "    plt.ylabel(ylabel)\n",
    "\n",
    "plot_scatter_with_labels(train_data[\"Age\"],\n",
    "                         train_data[\"EstimatedSalary\"], \n",
    "                         train_data[\"Purchased\"])"
   ]
  },
  {
   "cell_type": "markdown",
   "metadata": {},
   "source": [
    "## Step 4: Pre-processing the Data\n",
    "### Handling Categorical Features\n",
    "We can convert category text to numbers using sklearn's OrdinalEncoder class:"
   ]
  },
  {
   "cell_type": "code",
   "execution_count": 41,
   "metadata": {},
   "outputs": [
    {
     "data": {
      "text/plain": [
       "array([[1.],\n",
       "       [1.],\n",
       "       [1.],\n",
       "       [0.],\n",
       "       [1.]])"
      ]
     },
     "execution_count": 41,
     "metadata": {},
     "output_type": "execute_result"
    }
   ],
   "source": [
    "from sklearn.preprocessing import OrdinalEncoder\n",
    "ordinal_encoder = OrdinalEncoder()\n",
    "Gender_encoded = ordinal_encoder.fit_transform(X_train[[\"Gender\"]])\n",
    "Gender_encoded[:5]"
   ]
  },
  {
   "cell_type": "code",
   "execution_count": 42,
   "metadata": {},
   "outputs": [
    {
     "data": {
      "text/plain": [
       "[array(['Female', 'Male'], dtype=object)]"
      ]
     },
     "execution_count": 42,
     "metadata": {},
     "output_type": "execute_result"
    }
   ],
   "source": [
    "ordinal_encoder.categories_"
   ]
  },
  {
   "cell_type": "markdown",
   "metadata": {},
   "source": [
    "The encoder automatically set Female = 0, Male = 1"
   ]
  },
  {
   "cell_type": "markdown",
   "metadata": {},
   "source": [
    "### Feature Scaling "
   ]
  },
  {
   "cell_type": "code",
   "execution_count": 57,
   "metadata": {},
   "outputs": [
    {
     "name": "stderr",
     "output_type": "stream",
     "text": [
      "/Users/athena/Desktop/ML/handson-ml/my_env/lib/python3.6/site-packages/sklearn/preprocessing/data.py:645: DataConversionWarning: Data with input dtype int64 were all converted to float64 by StandardScaler.\n",
      "  return self.partial_fit(X, y)\n",
      "/Users/athena/Desktop/ML/handson-ml/my_env/lib/python3.6/site-packages/sklearn/base.py:464: DataConversionWarning: Data with input dtype int64 were all converted to float64 by StandardScaler.\n",
      "  return self.fit(X, **fit_params).transform(X)\n"
     ]
    },
    {
     "data": {
      "text/plain": [
       "array([[-1.06486906,  0.53265281],\n",
       "       [-0.96739821, -0.32805032],\n",
       "       [-0.96739821,  0.56233223]])"
      ]
     },
     "execution_count": 57,
     "metadata": {},
     "output_type": "execute_result"
    }
   ],
   "source": [
    "from sklearn.preprocessing import StandardScaler\n",
    "\n",
    "scaler = StandardScaler()\n",
    "X_train = scaler.fit_transform(X_train[[\"Age\", \"EstimatedSalary\"]])\n",
    "\n",
    "X_train[:3, :]"
   ]
  },
  {
   "cell_type": "markdown",
   "metadata": {},
   "source": [
    "### Feature Selection\n",
    "As I have explained in the MATLAB LiveScript, we decide not to include \"Gender\" as input features."
   ]
  },
  {
   "cell_type": "markdown",
   "metadata": {},
   "source": [
    "## Step 5: Try out Different ML Models\n",
    "### Model 1: Discriminant Analysis Classifier\n"
   ]
  },
  {
   "cell_type": "code",
   "execution_count": 58,
   "metadata": {},
   "outputs": [
    {
     "data": {
      "text/plain": [
       "LinearDiscriminantAnalysis(n_components=None, priors=None, shrinkage=None,\n",
       "              solver='svd', store_covariance=False, tol=0.0001)"
      ]
     },
     "execution_count": 58,
     "metadata": {},
     "output_type": "execute_result"
    }
   ],
   "source": [
    "from sklearn.discriminant_analysis import LinearDiscriminantAnalysis\n",
    "da_clf = LinearDiscriminantAnalysis()\n",
    "da_clf.fit(X_train, Y_train)"
   ]
  },
  {
   "cell_type": "markdown",
   "metadata": {},
   "source": [
    "### Evaluate Using Cross-Validation "
   ]
  },
  {
   "cell_type": "code",
   "execution_count": 63,
   "metadata": {},
   "outputs": [
    {
     "data": {
      "text/plain": [
       "array([0.87878788, 0.81818182, 0.84848485, 0.72727273, 0.8125    ,\n",
       "       0.78125   , 0.90322581, 0.90322581, 0.83870968, 0.83870968])"
      ]
     },
     "execution_count": 63,
     "metadata": {},
     "output_type": "execute_result"
    }
   ],
   "source": [
    "from sklearn.model_selection import cross_val_score\n",
    "scores = cross_val_score(da_clf, X_train, Y_train,\n",
    "                        scoring=\"accuracy\", cv=10)\n",
    "scores"
   ]
  },
  {
   "cell_type": "code",
   "execution_count": 64,
   "metadata": {},
   "outputs": [
    {
     "data": {
      "text/plain": [
       "0.8350348240469208"
      ]
     },
     "execution_count": 64,
     "metadata": {},
     "output_type": "execute_result"
    }
   ],
   "source": [
    "np.average(scores) # averaged cv scores of 10 cross validations"
   ]
  },
  {
   "cell_type": "markdown",
   "metadata": {},
   "source": [
    "Let's create a dictionary to save the average cv scores of different classifiers so that we can compare later:"
   ]
  },
  {
   "cell_type": "code",
   "execution_count": 65,
   "metadata": {},
   "outputs": [],
   "source": [
    "avg_cv_scores = {} # dictionary to store all avg scores\n",
    "avg_cv_scores[\"DA\"] = np.average(scores)"
   ]
  },
  {
   "cell_type": "markdown",
   "metadata": {},
   "source": [
    "### Visualization: Decision Boundary"
   ]
  },
  {
   "cell_type": "code",
   "execution_count": 170,
   "metadata": {},
   "outputs": [
    {
     "data": {
      "image/png": "[encoded data removed]",
      "text/plain": [
       "<Figure size 432x288 with 1 Axes>"
      ]
     },
     "metadata": {
      "needs_background": "light"
     },
     "output_type": "display_data"
    }
   ],
   "source": [
    "def plot_decision_boundary(clf, axes, inverse=False):\n",
    "    x0s = np.linspace(axes[0], axes[1], 100)\n",
    "    x1s = np.linspace(axes[2], axes[3], 100)\n",
    "    x0, x1 = np.meshgrid(x0s, x1s)\n",
    "    X = np.c_[x0.ravel(), x1.ravel()]\n",
    "    y_pred = clf.predict(X).reshape(x0.shape)\n",
    "    y_pred = y_pred ==\"Purchased\"\n",
    "    if inverse:\n",
    "        X = scaler.inverse_transform(np.c_[x0s, x1s])\n",
    "        x0, x1 = np.meshgrid(X[:,0], X[:,1])\n",
    "        \n",
    "    plt.contourf(x0, x1, y_pred, cmap=plt.cm.brg, alpha=0.2)\n",
    "\n",
    "def plot_prediction_results(clf, X, Y):\n",
    "    plot_decision_boundary(clf, [-3, 3, -3, 3])\n",
    "    plot_scatter_with_labels(X[:,0], X[:,1], Y, \n",
    "                             xlabel=\"Scaled Age\", ylabel=\"Scaled Salary\")\n",
    "\n",
    "plot_prediction_results(da_clf, X_train, Y_train)"
   ]
  },
  {
   "cell_type": "markdown",
   "metadata": {},
   "source": [
    "### Model 2: Naive Bayes Classifier "
   ]
  },
  {
   "cell_type": "code",
   "execution_count": 97,
   "metadata": {},
   "outputs": [
    {
     "data": {
      "image/png": "[encoded data removed]",
      "text/plain": [
       "<Figure size 432x288 with 1 Axes>"
      ]
     },
     "metadata": {
      "needs_background": "light"
     },
     "output_type": "display_data"
    }
   ],
   "source": [
    "from sklearn.naive_bayes import GaussianNB\n",
    "nb_clf = GaussianNB()\n",
    "nb_clf.fit(X_train, Y_train)\n",
    "scores = cross_val_score(nb_clf, X_train, Y_train,\n",
    "                        scoring=\"accuracy\", cv=10)\n",
    "avg_cv_scores[\"NB\"] = np.average(scores)\n",
    "plot_prediction_results(nb_clf, X_train, Y_train)"
   ]
  },
  {
   "cell_type": "markdown",
   "metadata": {},
   "source": [
    "### Model 3: KNN\n",
    "`n_neighbors` is a hyperparameter that you can tune to get a best result.\n",
    "\n",
    "Lower n_neighbors = more DOF = more likely to overfit"
   ]
  },
  {
   "cell_type": "code",
   "execution_count": 104,
   "metadata": {},
   "outputs": [
    {
     "name": "stdout",
     "output_type": "stream",
     "text": [
      "0.8910251710654936\n"
     ]
    },
    {
     "data": {
      "image/png": "[encoded data removed]",
      "text/plain": [
       "<Figure size 432x288 with 1 Axes>"
      ]
     },
     "metadata": {
      "needs_background": "light"
     },
     "output_type": "display_data"
    }
   ],
   "source": [
    "from sklearn.neighbors import KNeighborsClassifier\n",
    "knn_clf = KNeighborsClassifier(n_neighbors=30) # change n_neighbors, see what happens!\n",
    "knn_clf.fit(X_train, Y_train)\n",
    "scores = cross_val_score(knn_clf, X_train, Y_train,\n",
    "                        scoring=\"accuracy\", cv=10)\n",
    "avg_cv_scores[\"KNN\"] = np.average(scores)\n",
    "print(avg_cv_scores[\"KNN\"] )\n",
    "plot_prediction_results(knn_clf, X_train, Y_train)"
   ]
  },
  {
   "cell_type": "markdown",
   "metadata": {},
   "source": [
    "### Model 4: SVM-Linear "
   ]
  },
  {
   "cell_type": "code",
   "execution_count": 98,
   "metadata": {},
   "outputs": [
    {
     "data": {
      "image/png": "[encoded data removed]",
      "text/plain": [
       "<Figure size 432x288 with 1 Axes>"
      ]
     },
     "metadata": {
      "needs_background": "light"
     },
     "output_type": "display_data"
    }
   ],
   "source": [
    "from sklearn.svm import SVC\n",
    "svmln_clf = SVC(kernel=\"linear\", C=1)\n",
    "svmln_clf.fit(X_train, Y_train)\n",
    "scores = cross_val_score(svmln_clf, X_train, Y_train,\n",
    "                        scoring=\"accuracy\", cv=10)\n",
    "avg_cv_scores[\"SVM-linear\"] = np.average(scores)\n",
    "plot_prediction_results(svmln_clf, X_train, Y_train)"
   ]
  },
  {
   "cell_type": "markdown",
   "metadata": {},
   "source": [
    "### Model 5: SVM-Non-linear "
   ]
  },
  {
   "cell_type": "code",
   "execution_count": 143,
   "metadata": {},
   "outputs": [
    {
     "name": "stdout",
     "output_type": "stream",
     "text": [
      "0.8381476050830889\n"
     ]
    },
    {
     "data": {
      "image/png": "[encoded data removed]",
      "text/plain": [
       "<Figure size 432x288 with 1 Axes>"
      ]
     },
     "metadata": {
      "needs_background": "light"
     },
     "output_type": "display_data"
    }
   ],
   "source": [
    "svmpoly_clf = SVC(kernel=\"poly\", gamma='auto') # Play with degree and C\n",
    "svmpoly_clf.fit(X_train, Y_train)\n",
    "scores = cross_val_score(svmpoly_clf, X_train, Y_train,\n",
    "                        scoring=\"accuracy\", cv=10)\n",
    "avg_cv_scores[\"SVM-poly\"] = np.average(scores)\n",
    "print(avg_cv_scores[\"SVM-poly\"] )\n",
    "plot_prediction_results(svmpoly_clf, X_train, Y_train)"
   ]
  },
  {
   "cell_type": "code",
   "execution_count": 146,
   "metadata": {},
   "outputs": [
    {
     "name": "stdout",
     "output_type": "stream",
     "text": [
      "0.9127229960899316\n"
     ]
    },
    {
     "data": {
      "image/png": "[encoded data removed]",
      "text/plain": [
       "<Figure size 432x288 with 1 Axes>"
      ]
     },
     "metadata": {
      "needs_background": "light"
     },
     "output_type": "display_data"
    }
   ],
   "source": [
    "#Gaussian Radial Basis Function (RBF) Kernel\n",
    "svmgauss_clf = SVC(kernel=\"rbf\", gamma=1, C=1) # Play with hyperparameters\n",
    "svmgauss_clf.fit(X_train, Y_train)\n",
    "scores = cross_val_score(svmgauss_clf, X_train, Y_train,\n",
    "                        scoring=\"accuracy\", cv=10)\n",
    "avg_cv_scores[\"SVM-gauss\"] = np.average(scores)\n",
    "print(avg_cv_scores[\"SVM-gauss\"] )\n",
    "plot_prediction_results(svmgauss_clf, X_train, Y_train)"
   ]
  },
  {
   "cell_type": "markdown",
   "metadata": {},
   "source": [
    "## Step 6: Fine-Tune the System\n",
    "Topics we don't have time to cover in this tutorial:\n",
    "### Tuning Hyperparameters using Grid Search\n",
    "### Using Ensemble Models\n",
    "\n",
    "We will do these only:\n",
    "### Choose Final Model"
   ]
  },
  {
   "cell_type": "code",
   "execution_count": 147,
   "metadata": {},
   "outputs": [
    {
     "data": {
      "text/plain": [
       "{'DA': 0.8350348240469208,\n",
       " 'NB': 0.8756781524926686,\n",
       " 'SVM-linear': 0.8354258308895405,\n",
       " 'KNN': 0.8910251710654936,\n",
       " 'SVM-poly': 0.8381476050830889,\n",
       " 'SVM-gauss': 0.9127229960899316}"
      ]
     },
     "execution_count": 147,
     "metadata": {},
     "output_type": "execute_result"
    }
   ],
   "source": [
    "avg_cv_scores"
   ]
  },
  {
   "cell_type": "markdown",
   "metadata": {},
   "source": [
    "For the same reasoning as I presented in the MATLAB LiveScript, I am going to go with SVM-Gaussian kernel."
   ]
  },
  {
   "cell_type": "markdown",
   "metadata": {},
   "source": [
    "### Check Performace on Test Set"
   ]
  },
  {
   "cell_type": "code",
   "execution_count": 157,
   "metadata": {},
   "outputs": [
    {
     "name": "stdout",
     "output_type": "stream",
     "text": [
      "Accuracy on test set:  0.9375\n"
     ]
    },
    {
     "name": "stderr",
     "output_type": "stream",
     "text": [
      "/Users/athena/Desktop/ML/handson-ml/my_env/lib/python3.6/site-packages/ipykernel_launcher.py:2: DataConversionWarning: Data with input dtype int64 were all converted to float64 by StandardScaler.\n",
      "  \n"
     ]
    }
   ],
   "source": [
    "# Note you need to use \"transform\" not \"fit_transform\"\n",
    "X_test = scaler.transform(test_data[[\"Age\", \"EstimatedSalary\"]])\n",
    "Y_test_pred = svmgauss_clf.predict(X_test)\n",
    "accuracy = np.sum(Y_test_pred==test_data[\"Purchased\"])/len(Y_test_pred)\n",
    "print(\"Accuracy on test set: \",accuracy)"
   ]
  },
  {
   "cell_type": "markdown",
   "metadata": {},
   "source": [
    "## Step 7: Present Your Solution & Launch"
   ]
  },
  {
   "cell_type": "code",
   "execution_count": 176,
   "metadata": {
    "scrolled": true
   },
   "outputs": [
    {
     "data": {
      "text/plain": [
       "[15, 65, 0, 160000]"
      ]
     },
     "execution_count": 176,
     "metadata": {},
     "output_type": "execute_result"
    },
    {
     "data": {
      "image/png": "[encoded data removed]",
      "text/plain": [
       "<Figure size 432x288 with 1 Axes>"
      ]
     },
     "metadata": {
      "needs_background": "light"
     },
     "output_type": "display_data"
    }
   ],
   "source": [
    "plot_scatter_with_labels(data[\"Age\"],\n",
    "                         data[\"EstimatedSalary\"], \n",
    "                         data[\"Purchased\"])\n",
    "plot_decision_boundary(svmgauss_clf, [-3, 3, -3, 3], inverse=True)\n",
    "plt.axis([15, 65, 0, 160000])"
   ]
  },
  {
   "cell_type": "markdown",
   "metadata": {},
   "source": [
    "And report that our classifier can predict 94% of the customers if they will purchase or not correctly based on their salary and age.\n",
    "Also we can report that Gender is not a critical factor in the prediction and the company does not need to collect that information in the future."
   ]
  },
  {
   "cell_type": "markdown",
   "metadata": {},
   "source": [
    "# More Learning Resources\n",
    "\n",
    "If you want to learn more about practical machine learning in Python, you should checkout Hands-On Machine Learning with Scikit-Learn, Keras & TensorFlow by Aurélien Géron: https://www.oreilly.com/library/view/hands-on-machine-learning/9781492032632/ . \n",
    "\n",
    "Be sure to work through Chapter 2, where you will work through an end-to-end ML project on a Regression problem. Actually, I based my tutorial on this chapter! You will defintely learn more by reading the book.\n",
    "\n",
    "UBC students can read the online version for free. The author also uploaded all his Notebooks to Github, open source for everyone to download and learn."
   ]
  }
 ],
 "metadata": {
  "kernelspec": {
   "display_name": "Python 3",
   "language": "python",
   "name": "python3"
  },
  "language_info": {
   "codemirror_mode": {
    "name": "ipython",
    "version": 3
   },
   "file_extension": ".py",
   "mimetype": "text/x-python",
   "name": "python",
   "nbconvert_exporter": "python",
   "pygments_lexer": "ipython3",
   "version": "3.6.5"
  }
 },
 "nbformat": 4,
 "nbformat_minor": 2
}
