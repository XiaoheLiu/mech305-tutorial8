{
 "cells": [
  {
   "cell_type": "markdown",
   "metadata": {},
   "source": [
    "# Tutorial 8. Machine Learning - Python Version\n",
    "Athena Liu\n",
    "\n",
    "March 26, 2020"
   ]
  },
  {
   "cell_type": "code",
   "execution_count": 1,
   "metadata": {},
   "outputs": [],
   "source": [
    "import numpy as np\n",
    "import pandas as pd\n",
    "%matplotlib inline\n",
    "import matplotlib.pyplot as plt"
   ]
  },
  {
   "cell_type": "markdown",
   "metadata": {},
   "source": [
    "## Step 1: Frame the Problem\n",
    "See LiveScript.\n",
    "\n",
    "## Step 2: Get the Data"
   ]
  },
  {
   "cell_type": "code",
   "execution_count": 31,
   "metadata": {},
   "outputs": [],
   "source": [
    "data = pd.read_csv(\"Car_Advertisement.csv\");\n",
    "m = len(data) # 400\n",
    "data[['Age', 'EstimatedSalary']] = data[['Age', 'EstimatedSalary']].astype(float)\n",
    "# Need to explicitly convert \"numerical\" entries to \"float\" type"
   ]
  },
  {
   "cell_type": "markdown",
   "metadata": {},
   "source": [
    "### Train-Test Split "
   ]
  },
  {
   "cell_type": "code",
   "execution_count": 34,
   "metadata": {},
   "outputs": [
    {
     "data": {
      "text/html": [
       "<div>\n",
       "<style scoped>\n",
       "    .dataframe tbody tr th:only-of-type {\n",
       "        vertical-align: middle;\n",
       "    }\n",
       "\n",
       "    .dataframe tbody tr th {\n",
       "        vertical-align: top;\n",
       "    }\n",
       "\n",
       "    .dataframe thead th {\n",
       "        text-align: right;\n",
       "    }\n",
       "</style>\n",
       "<table border=\"1\" class=\"dataframe\">\n",
       "  <thead>\n",
       "    <tr style=\"text-align: right;\">\n",
       "      <th></th>\n",
       "      <th>UserID</th>\n",
       "      <th>Gender</th>\n",
       "      <th>Age</th>\n",
       "      <th>EstimatedSalary</th>\n",
       "      <th>Purchased</th>\n",
       "    </tr>\n",
       "  </thead>\n",
       "  <tbody>\n",
       "    <tr>\n",
       "      <th>285</th>\n",
       "      <td>15734161</td>\n",
       "      <td>Female</td>\n",
       "      <td>37.0</td>\n",
       "      <td>93000.0</td>\n",
       "      <td>Purchased</td>\n",
       "    </tr>\n",
       "    <tr>\n",
       "      <th>322</th>\n",
       "      <td>15674331</td>\n",
       "      <td>Male</td>\n",
       "      <td>41.0</td>\n",
       "      <td>52000.0</td>\n",
       "      <td>Not Purchased</td>\n",
       "    </tr>\n",
       "    <tr>\n",
       "      <th>336</th>\n",
       "      <td>15664907</td>\n",
       "      <td>Male</td>\n",
       "      <td>58.0</td>\n",
       "      <td>144000.0</td>\n",
       "      <td>Purchased</td>\n",
       "    </tr>\n",
       "    <tr>\n",
       "      <th>205</th>\n",
       "      <td>15766609</td>\n",
       "      <td>Female</td>\n",
       "      <td>47.0</td>\n",
       "      <td>47000.0</td>\n",
       "      <td>Not Purchased</td>\n",
       "    </tr>\n",
       "    <tr>\n",
       "      <th>301</th>\n",
       "      <td>15678201</td>\n",
       "      <td>Male</td>\n",
       "      <td>48.0</td>\n",
       "      <td>74000.0</td>\n",
       "      <td>Purchased</td>\n",
       "    </tr>\n",
       "  </tbody>\n",
       "</table>\n",
       "</div>"
      ],
      "text/plain": [
       "       UserID  Gender   Age  EstimatedSalary      Purchased\n",
       "285  15734161  Female  37.0          93000.0      Purchased\n",
       "322  15674331    Male  41.0          52000.0  Not Purchased\n",
       "336  15664907    Male  58.0         144000.0      Purchased\n",
       "205  15766609  Female  47.0          47000.0  Not Purchased\n",
       "301  15678201    Male  48.0          74000.0      Purchased"
      ]
     },
     "execution_count": 34,
     "metadata": {},
     "output_type": "execute_result"
    }
   ],
   "source": [
    "# scikit learn\n",
    "from sklearn.model_selection import train_test_split\n",
    "train_data, test_data = train_test_split(data, test_size=0.2)\n",
    "train_data.head()"
   ]
  },
  {
   "cell_type": "markdown",
   "metadata": {},
   "source": [
    "## Step 3: Explore the Training Data"
   ]
  },
  {
   "cell_type": "code",
   "execution_count": 35,
   "metadata": {},
   "outputs": [
    {
     "name": "stdout",
     "output_type": "stream",
     "text": [
      "<class 'pandas.core.frame.DataFrame'>\n",
      "Int64Index: 320 entries, 285 to 168\n",
      "Data columns (total 5 columns):\n",
      "UserID             320 non-null int64\n",
      "Gender             320 non-null object\n",
      "Age                320 non-null float64\n",
      "EstimatedSalary    320 non-null float64\n",
      "Purchased          320 non-null object\n",
      "dtypes: float64(2), int64(1), object(2)\n",
      "memory usage: 15.0+ KB\n"
     ]
    }
   ],
   "source": [
    "train_data.info()"
   ]
  },
  {
   "cell_type": "markdown",
   "metadata": {},
   "source": [
    "Summary of each numerical attribute:"
   ]
  },
  {
   "cell_type": "code",
   "execution_count": 36,
   "metadata": {},
   "outputs": [
    {
     "data": {
      "text/html": [
       "<div>\n",
       "<style scoped>\n",
       "    .dataframe tbody tr th:only-of-type {\n",
       "        vertical-align: middle;\n",
       "    }\n",
       "\n",
       "    .dataframe tbody tr th {\n",
       "        vertical-align: top;\n",
       "    }\n",
       "\n",
       "    .dataframe thead th {\n",
       "        text-align: right;\n",
       "    }\n",
       "</style>\n",
       "<table border=\"1\" class=\"dataframe\">\n",
       "  <thead>\n",
       "    <tr style=\"text-align: right;\">\n",
       "      <th></th>\n",
       "      <th>UserID</th>\n",
       "      <th>Age</th>\n",
       "      <th>EstimatedSalary</th>\n",
       "    </tr>\n",
       "  </thead>\n",
       "  <tbody>\n",
       "    <tr>\n",
       "      <th>count</th>\n",
       "      <td>3.200000e+02</td>\n",
       "      <td>320.00000</td>\n",
       "      <td>320.000000</td>\n",
       "    </tr>\n",
       "    <tr>\n",
       "      <th>mean</th>\n",
       "      <td>1.569172e+07</td>\n",
       "      <td>37.73750</td>\n",
       "      <td>68968.750000</td>\n",
       "    </tr>\n",
       "    <tr>\n",
       "      <th>std</th>\n",
       "      <td>7.108316e+04</td>\n",
       "      <td>10.54442</td>\n",
       "      <td>34734.897826</td>\n",
       "    </tr>\n",
       "    <tr>\n",
       "      <th>min</th>\n",
       "      <td>1.556669e+07</td>\n",
       "      <td>18.00000</td>\n",
       "      <td>15000.000000</td>\n",
       "    </tr>\n",
       "    <tr>\n",
       "      <th>25%</th>\n",
       "      <td>1.562944e+07</td>\n",
       "      <td>29.00000</td>\n",
       "      <td>43000.000000</td>\n",
       "    </tr>\n",
       "    <tr>\n",
       "      <th>50%</th>\n",
       "      <td>1.569464e+07</td>\n",
       "      <td>37.00000</td>\n",
       "      <td>65500.000000</td>\n",
       "    </tr>\n",
       "    <tr>\n",
       "      <th>75%</th>\n",
       "      <td>1.575013e+07</td>\n",
       "      <td>46.00000</td>\n",
       "      <td>87000.000000</td>\n",
       "    </tr>\n",
       "    <tr>\n",
       "      <th>max</th>\n",
       "      <td>1.581524e+07</td>\n",
       "      <td>60.00000</td>\n",
       "      <td>150000.000000</td>\n",
       "    </tr>\n",
       "  </tbody>\n",
       "</table>\n",
       "</div>"
      ],
      "text/plain": [
       "             UserID        Age  EstimatedSalary\n",
       "count  3.200000e+02  320.00000       320.000000\n",
       "mean   1.569172e+07   37.73750     68968.750000\n",
       "std    7.108316e+04   10.54442     34734.897826\n",
       "min    1.556669e+07   18.00000     15000.000000\n",
       "25%    1.562944e+07   29.00000     43000.000000\n",
       "50%    1.569464e+07   37.00000     65500.000000\n",
       "75%    1.575013e+07   46.00000     87000.000000\n",
       "max    1.581524e+07   60.00000    150000.000000"
      ]
     },
     "execution_count": 36,
     "metadata": {},
     "output_type": "execute_result"
    }
   ],
   "source": [
    "train_data.describe()"
   ]
  },
  {
   "cell_type": "markdown",
   "metadata": {},
   "source": [
    "Value counts of categorical attributes:"
   ]
  },
  {
   "cell_type": "code",
   "execution_count": 37,
   "metadata": {},
   "outputs": [
    {
     "data": {
      "text/plain": [
       "Female    166\n",
       "Male      154\n",
       "Name: Gender, dtype: int64"
      ]
     },
     "execution_count": 37,
     "metadata": {},
     "output_type": "execute_result"
    }
   ],
   "source": [
    "train_data[\"Gender\"].value_counts()"
   ]
  },
  {
   "cell_type": "code",
   "execution_count": 38,
   "metadata": {},
   "outputs": [
    {
     "data": {
      "text/plain": [
       "Not Purchased    205\n",
       "Purchased        115\n",
       "Name: Purchased, dtype: int64"
      ]
     },
     "execution_count": 38,
     "metadata": {},
     "output_type": "execute_result"
    }
   ],
   "source": [
    "train_data[\"Purchased\"].value_counts()"
   ]
  },
  {
   "cell_type": "code",
   "execution_count": 39,
   "metadata": {},
   "outputs": [
    {
     "data": {
      "text/html": [
       "<div>\n",
       "<style scoped>\n",
       "    .dataframe tbody tr th:only-of-type {\n",
       "        vertical-align: middle;\n",
       "    }\n",
       "\n",
       "    .dataframe tbody tr th {\n",
       "        vertical-align: top;\n",
       "    }\n",
       "\n",
       "    .dataframe thead th {\n",
       "        text-align: right;\n",
       "    }\n",
       "</style>\n",
       "<table border=\"1\" class=\"dataframe\">\n",
       "  <thead>\n",
       "    <tr style=\"text-align: right;\">\n",
       "      <th></th>\n",
       "      <th>Gender</th>\n",
       "      <th>Age</th>\n",
       "      <th>EstimatedSalary</th>\n",
       "    </tr>\n",
       "  </thead>\n",
       "  <tbody>\n",
       "    <tr>\n",
       "      <th>285</th>\n",
       "      <td>Female</td>\n",
       "      <td>37.0</td>\n",
       "      <td>93000.0</td>\n",
       "    </tr>\n",
       "    <tr>\n",
       "      <th>322</th>\n",
       "      <td>Male</td>\n",
       "      <td>41.0</td>\n",
       "      <td>52000.0</td>\n",
       "    </tr>\n",
       "    <tr>\n",
       "      <th>336</th>\n",
       "      <td>Male</td>\n",
       "      <td>58.0</td>\n",
       "      <td>144000.0</td>\n",
       "    </tr>\n",
       "    <tr>\n",
       "      <th>205</th>\n",
       "      <td>Female</td>\n",
       "      <td>47.0</td>\n",
       "      <td>47000.0</td>\n",
       "    </tr>\n",
       "    <tr>\n",
       "      <th>301</th>\n",
       "      <td>Male</td>\n",
       "      <td>48.0</td>\n",
       "      <td>74000.0</td>\n",
       "    </tr>\n",
       "  </tbody>\n",
       "</table>\n",
       "</div>"
      ],
      "text/plain": [
       "     Gender   Age  EstimatedSalary\n",
       "285  Female  37.0          93000.0\n",
       "322    Male  41.0          52000.0\n",
       "336    Male  58.0         144000.0\n",
       "205  Female  47.0          47000.0\n",
       "301    Male  48.0          74000.0"
      ]
     },
     "execution_count": 39,
     "metadata": {},
     "output_type": "execute_result"
    }
   ],
   "source": [
    "Y_train = train_data[\"Purchased\"].copy()\n",
    "X_train = train_data.drop([\"Purchased\", \"UserID\"], axis=1) \n",
    "m_train = len(X_train)\n",
    "X_train.head()"
   ]
  },
  {
   "cell_type": "code",
   "execution_count": 40,
   "metadata": {},
   "outputs": [
    {
     "data": {
      "text/plain": [
       "285        Purchased\n",
       "322    Not Purchased\n",
       "336        Purchased\n",
       "205    Not Purchased\n",
       "301        Purchased\n",
       "Name: Purchased, dtype: object"
      ]
     },
     "execution_count": 40,
     "metadata": {},
     "output_type": "execute_result"
    }
   ],
   "source": [
    "Y_train.head()"
   ]
  },
  {
   "cell_type": "markdown",
   "metadata": {},
   "source": [
    "### Visualize the data "
   ]
  },
  {
   "cell_type": "code",
   "execution_count": 41,
   "metadata": {},
   "outputs": [
    {
     "data": {
      "image/png": "[encoded data removed]",
      "text/plain": [
       "<Figure size 432x288 with 1 Axes>"
      ]
     },
     "metadata": {
      "needs_background": "light"
     },
     "output_type": "display_data"
    }
   ],
   "source": [
    "def plot_scatter_with_labels(X1, X2, Y, xlabel=\"Age\", ylabel=\"Estimated Salary\"): \n",
    "    df = pd.DataFrame(dict(x1=X1, x2=X2, label=Y))\n",
    "    groups = df.groupby(\"label\")\n",
    "    for name, group in groups:\n",
    "        plt.plot(group.x1, group.x2, \n",
    "                 marker=\"o\", linestyle=\"\", ms=3,\n",
    "                 label=name)\n",
    "    plt.legend()\n",
    "    plt.xlabel(xlabel)\n",
    "    plt.ylabel(ylabel)\n",
    "\n",
    "plot_scatter_with_labels(train_data[\"Age\"],\n",
    "                         train_data[\"EstimatedSalary\"], \n",
    "                         train_data[\"Purchased\"])"
   ]
  },
  {
   "cell_type": "markdown",
   "metadata": {},
   "source": [
    "## Step 4: Pre-processing the Data\n",
    "### Handling Categorical Features\n",
    "We can convert category text to numbers using sklearn's OrdinalEncoder class:\n",
    "\n",
    "- model.fit(X, Y)\n",
    "- transformed_X = model.fit_transform(X)\n",
    "- Y_predict = model.predict(X)"
   ]
  },
  {
   "cell_type": "code",
   "execution_count": 42,
   "metadata": {},
   "outputs": [
    {
     "data": {
      "text/plain": [
       "array([[0.],\n",
       "       [1.],\n",
       "       [1.],\n",
       "       [0.],\n",
       "       [1.]])"
      ]
     },
     "execution_count": 42,
     "metadata": {},
     "output_type": "execute_result"
    }
   ],
   "source": [
    "from sklearn.preprocessing import OrdinalEncoder\n",
    "ordinal_encoder = OrdinalEncoder()\n",
    "Gender_encoded = ordinal_encoder.fit_transform(X_train[[\"Gender\"]])\n",
    "Gender_encoded[:5]"
   ]
  },
  {
   "cell_type": "code",
   "execution_count": 43,
   "metadata": {},
   "outputs": [
    {
     "data": {
      "text/plain": [
       "[array(['Female', 'Male'], dtype=object)]"
      ]
     },
     "execution_count": 43,
     "metadata": {},
     "output_type": "execute_result"
    }
   ],
   "source": [
    "ordinal_encoder.categories_"
   ]
  },
  {
   "cell_type": "markdown",
   "metadata": {},
   "source": [
    "The encoder automatically set Female = 0, Male = 1"
   ]
  },
  {
   "cell_type": "markdown",
   "metadata": {},
   "source": [
    "### Feature Scaling "
   ]
  },
  {
   "cell_type": "code",
   "execution_count": 44,
   "metadata": {},
   "outputs": [
    {
     "data": {
      "text/plain": [
       "array([[-0.07005175,  0.69293099],\n",
       "       [ 0.30988993, -0.48928677],\n",
       "       [ 1.92464206,  2.16349454]])"
      ]
     },
     "execution_count": 44,
     "metadata": {},
     "output_type": "execute_result"
    }
   ],
   "source": [
    "from sklearn.preprocessing import StandardScaler\n",
    "\n",
    "scaler = StandardScaler()\n",
    "X_train = scaler.fit_transform(X_train[[\"Age\", \"EstimatedSalary\"]])\n",
    "\n",
    "X_train[:3, :]"
   ]
  },
  {
   "cell_type": "markdown",
   "metadata": {},
   "source": [
    "### Feature Selection\n",
    "As I have explained in the MATLAB LiveScript, we decide not to include \"Gender\" as input features."
   ]
  },
  {
   "cell_type": "markdown",
   "metadata": {},
   "source": [
    "## Step 5: Try out Different ML Models\n",
    "### Model 1: Discriminant Analysis Classifier\n"
   ]
  },
  {
   "cell_type": "code",
   "execution_count": 45,
   "metadata": {},
   "outputs": [
    {
     "data": {
      "text/plain": [
       "LinearDiscriminantAnalysis(n_components=None, priors=None, shrinkage=None,\n",
       "              solver='svd', store_covariance=False, tol=0.0001)"
      ]
     },
     "execution_count": 45,
     "metadata": {},
     "output_type": "execute_result"
    }
   ],
   "source": [
    "from sklearn.discriminant_analysis import LinearDiscriminantAnalysis\n",
    "da_clf = LinearDiscriminantAnalysis()\n",
    "da_clf.fit(X_train, Y_train)"
   ]
  },
  {
   "cell_type": "markdown",
   "metadata": {},
   "source": [
    "### Evaluate Using Cross-Validation "
   ]
  },
  {
   "cell_type": "code",
   "execution_count": 49,
   "metadata": {},
   "outputs": [
    {
     "data": {
      "text/plain": [
       "array([0.84848485, 0.84848485, 0.87878788, 0.84848485, 0.72727273,\n",
       "       0.74193548, 0.87096774, 0.90322581, 0.93548387, 0.87096774])"
      ]
     },
     "execution_count": 49,
     "metadata": {},
     "output_type": "execute_result"
    }
   ],
   "source": [
    "from sklearn.model_selection import cross_val_score\n",
    "scores = cross_val_score(da_clf, X_train, Y_train,\n",
    "                        scoring=\"accuracy\", cv=10)\n",
    "scores"
   ]
  },
  {
   "cell_type": "code",
   "execution_count": 50,
   "metadata": {},
   "outputs": [
    {
     "data": {
      "text/plain": [
       "0.8474095796676442"
      ]
     },
     "execution_count": 50,
     "metadata": {},
     "output_type": "execute_result"
    }
   ],
   "source": [
    "np.average(scores) # averaged cv scores of 10 cross validations"
   ]
  },
  {
   "cell_type": "markdown",
   "metadata": {},
   "source": [
    "Let's create a dictionary to save the average cv scores of different classifiers so that we can compare later:"
   ]
  },
  {
   "cell_type": "code",
   "execution_count": 51,
   "metadata": {},
   "outputs": [],
   "source": [
    "avg_cv_scores = {} # dictionary to store all avg scores\n",
    "avg_cv_scores[\"DA\"] = np.average(scores)"
   ]
  },
  {
   "cell_type": "markdown",
   "metadata": {},
   "source": [
    "### Visualization: Decision Boundary"
   ]
  },
  {
   "cell_type": "code",
   "execution_count": 52,
   "metadata": {},
   "outputs": [
    {
     "data": {
      "image/png": "[encoded data removed]",
      "text/plain": [
       "<Figure size 432x288 with 1 Axes>"
      ]
     },
     "metadata": {
      "needs_background": "light"
     },
     "output_type": "display_data"
    }
   ],
   "source": [
    "def plot_decision_boundary(clf, axes, inverse=False):\n",
    "    x0s = np.linspace(axes[0], axes[1], 100)\n",
    "    x1s = np.linspace(axes[2], axes[3], 100)\n",
    "    x0, x1 = np.meshgrid(x0s, x1s)\n",
    "    X = np.c_[x0.ravel(), x1.ravel()]\n",
    "    y_pred = clf.predict(X).reshape(x0.shape)\n",
    "    y_pred = y_pred ==\"Purchased\"\n",
    "    if inverse:\n",
    "        X = scaler.inverse_transform(np.c_[x0s, x1s])\n",
    "        x0, x1 = np.meshgrid(X[:,0], X[:,1])\n",
    "        \n",
    "    plt.contourf(x0, x1, y_pred, cmap=plt.cm.brg, alpha=0.2)\n",
    "\n",
    "def plot_prediction_results(clf, X, Y):\n",
    "    plot_decision_boundary(clf, [-3, 3, -3, 3])\n",
    "    plot_scatter_with_labels(X[:,0], X[:,1], Y, \n",
    "                             xlabel=\"Scaled Age\", ylabel=\"Scaled Salary\")\n",
    "\n",
    "plot_prediction_results(da_clf, X_train, Y_train)"
   ]
  },
  {
   "cell_type": "markdown",
   "metadata": {},
   "source": [
    "### Model 2: Naive Bayes Classifier "
   ]
  },
  {
   "cell_type": "code",
   "execution_count": 53,
   "metadata": {},
   "outputs": [
    {
     "data": {
      "image/png": "[encoded data removed]",
      "text/plain": [
       "<Figure size 432x288 with 1 Axes>"
      ]
     },
     "metadata": {
      "needs_background": "light"
     },
     "output_type": "display_data"
    }
   ],
   "source": [
    "from sklearn.naive_bayes import GaussianNB\n",
    "nb_clf = GaussianNB()\n",
    "nb_clf.fit(X_train, Y_train)\n",
    "scores = cross_val_score(nb_clf, X_train, Y_train,\n",
    "                        scoring=\"accuracy\", cv=10)\n",
    "avg_cv_scores[\"NB\"] = np.average(scores)\n",
    "plot_prediction_results(nb_clf, X_train, Y_train)"
   ]
  },
  {
   "cell_type": "markdown",
   "metadata": {},
   "source": [
    "### Model 3: KNN\n",
    "`n_neighbors` is a hyperparameter that you can tune to get a best result.\n",
    "\n",
    "Lower n_neighbors = more DOF = more likely to overfit"
   ]
  },
  {
   "cell_type": "code",
   "execution_count": 55,
   "metadata": {},
   "outputs": [
    {
     "name": "stdout",
     "output_type": "stream",
     "text": [
      "0.9277614858260019\n"
     ]
    },
    {
     "data": {
      "image/png": "[encoded data removed]",
      "text/plain": [
       "<Figure size 432x288 with 1 Axes>"
      ]
     },
     "metadata": {
      "needs_background": "light"
     },
     "output_type": "display_data"
    }
   ],
   "source": [
    "from sklearn.neighbors import KNeighborsClassifier\n",
    "knn_clf = KNeighborsClassifier(n_neighbors=3) # change n_neighbors, see what happens!\n",
    "knn_clf.fit(X_train, Y_train)\n",
    "scores = cross_val_score(knn_clf, X_train, Y_train,\n",
    "                        scoring=\"accuracy\", cv=10)\n",
    "avg_cv_scores[\"KNN3\"] = np.average(scores)\n",
    "print(avg_cv_scores[\"KNN3\"] )\n",
    "plot_prediction_results(knn_clf, X_train, Y_train)"
   ]
  },
  {
   "cell_type": "markdown",
   "metadata": {},
   "source": [
    "### Model 4: SVM-Linear "
   ]
  },
  {
   "cell_type": "code",
   "execution_count": 56,
   "metadata": {},
   "outputs": [
    {
     "data": {
      "image/png": "[encoded data removed]",
      "text/plain": [
       "<Figure size 432x288 with 1 Axes>"
      ]
     },
     "metadata": {
      "needs_background": "light"
     },
     "output_type": "display_data"
    }
   ],
   "source": [
    "from sklearn.svm import SVC\n",
    "svmln_clf = SVC(kernel=\"linear\", C=1)\n",
    "svmln_clf.fit(X_train, Y_train)\n",
    "scores = cross_val_score(svmln_clf, X_train, Y_train,\n",
    "                        scoring=\"accuracy\", cv=10)\n",
    "avg_cv_scores[\"SVM-linear\"] = np.average(scores)\n",
    "plot_prediction_results(svmln_clf, X_train, Y_train)"
   ]
  },
  {
   "cell_type": "markdown",
   "metadata": {},
   "source": [
    "### Model 5: SVM-Non-linear "
   ]
  },
  {
   "cell_type": "code",
   "execution_count": 59,
   "metadata": {},
   "outputs": [
    {
     "name": "stdout",
     "output_type": "stream",
     "text": [
      "0.8720430107526882\n"
     ]
    },
    {
     "data": {
      "image/png": "[encoded data removed]",
      "text/plain": [
       "<Figure size 432x288 with 1 Axes>"
      ]
     },
     "metadata": {
      "needs_background": "light"
     },
     "output_type": "display_data"
    }
   ],
   "source": [
    "svmpoly_clf = SVC(kernel=\"poly\", gamma='auto') # Play with degree and C\n",
    "svmpoly_clf.fit(X_train, Y_train)\n",
    "scores = cross_val_score(svmpoly_clf, X_train, Y_train,\n",
    "                        scoring=\"accuracy\", cv=10)\n",
    "avg_cv_scores[\"SVM-poly\"] = np.average(scores)\n",
    "print(avg_cv_scores[\"SVM-poly\"] )\n",
    "plot_prediction_results(svmpoly_clf, X_train, Y_train)"
   ]
  },
  {
   "cell_type": "code",
   "execution_count": 60,
   "metadata": {},
   "outputs": [
    {
     "name": "stdout",
     "output_type": "stream",
     "text": [
      "0.9313782991202345\n"
     ]
    },
    {
     "data": {
      "image/png": "[encoded data removed]",
      "text/plain": [
       "<Figure size 432x288 with 1 Axes>"
      ]
     },
     "metadata": {
      "needs_background": "light"
     },
     "output_type": "display_data"
    }
   ],
   "source": [
    "#Gaussian Radial Basis Function (RBF) Kernel\n",
    "svmgauss_clf = SVC(kernel=\"rbf\", gamma=1, C=1) # Play with hyperparameters\n",
    "svmgauss_clf.fit(X_train, Y_train)\n",
    "scores = cross_val_score(svmgauss_clf, X_train, Y_train,\n",
    "                        scoring=\"accuracy\", cv=10)\n",
    "avg_cv_scores[\"SVM-gauss\"] = np.average(scores)\n",
    "print(avg_cv_scores[\"SVM-gauss\"] )\n",
    "plot_prediction_results(svmgauss_clf, X_train, Y_train)"
   ]
  },
  {
   "cell_type": "markdown",
   "metadata": {},
   "source": [
    "### Model 6 (Optional): Decision Tree"
   ]
  },
  {
   "cell_type": "code",
   "execution_count": 65,
   "metadata": {},
   "outputs": [
    {
     "name": "stdout",
     "output_type": "stream",
     "text": [
      "0.9031280547409579\n"
     ]
    },
    {
     "data": {
      "image/png": "[encoded data removed]",
      "text/plain": [
       "<Figure size 432x288 with 1 Axes>"
      ]
     },
     "metadata": {
      "needs_background": "light"
     },
     "output_type": "display_data"
    }
   ],
   "source": [
    "from sklearn.tree import DecisionTreeClassifier\n",
    "tree_clf = DecisionTreeClassifier(max_depth=3) # Play with hyperparameter\n",
    "tree_clf.fit(X_train, Y_train)\n",
    "scores = cross_val_score(tree_clf, X_train, Y_train,\n",
    "                        scoring=\"accuracy\", cv=10)\n",
    "avg_cv_scores[\"D Tree\"] = np.average(scores)\n",
    "print(avg_cv_scores[\"D Tree\"] )\n",
    "plot_prediction_results(tree_clf, X_train, Y_train)"
   ]
  },
  {
   "cell_type": "markdown",
   "metadata": {},
   "source": [
    "## Step 6: Fine-Tune the System\n",
    "Topics we don't have time to cover in this tutorial:\n",
    "### Tuning Hyperparameters using Grid Search\n",
    "### Using Ensemble Models\n",
    "\n",
    "We will do these only:\n",
    "### Choose Final Model"
   ]
  },
  {
   "cell_type": "code",
   "execution_count": 66,
   "metadata": {},
   "outputs": [
    {
     "data": {
      "text/plain": [
       "{'DA': 0.8474095796676442,\n",
       " 'NB': 0.9035190615835778,\n",
       " 'KNN': 0.9222873900293255,\n",
       " 'KNN3': 0.9277614858260019,\n",
       " 'SVM-linear': 0.856891495601173,\n",
       " 'SVM-poly': 0.8720430107526882,\n",
       " 'SVM-gauss': 0.9313782991202345,\n",
       " 'D Tree': 0.9031280547409579}"
      ]
     },
     "execution_count": 66,
     "metadata": {},
     "output_type": "execute_result"
    }
   ],
   "source": [
    "avg_cv_scores"
   ]
  },
  {
   "cell_type": "markdown",
   "metadata": {},
   "source": [
    "For the same reasoning as I presented in the MATLAB LiveScript, I am going to go with SVM-Gaussian kernel."
   ]
  },
  {
   "cell_type": "markdown",
   "metadata": {},
   "source": [
    "### Check Performace on Test Set"
   ]
  },
  {
   "cell_type": "code",
   "execution_count": 67,
   "metadata": {},
   "outputs": [
    {
     "name": "stdout",
     "output_type": "stream",
     "text": [
      "Accuracy on test set:  0.85\n"
     ]
    }
   ],
   "source": [
    "# Note you need to use \"transform\" not \"fit_transform\"\n",
    "X_test = scaler.transform(test_data[[\"Age\", \"EstimatedSalary\"]])\n",
    "Y_test_pred = svmgauss_clf.predict(X_test)\n",
    "accuracy = np.sum(Y_test_pred==test_data[\"Purchased\"])/len(Y_test_pred)\n",
    "print(\"Accuracy on test set: \",accuracy)"
   ]
  },
  {
   "cell_type": "markdown",
   "metadata": {},
   "source": [
    "## Step 7: Present Your Solution & Launch"
   ]
  },
  {
   "cell_type": "code",
   "execution_count": 68,
   "metadata": {
    "scrolled": false
   },
   "outputs": [
    {
     "data": {
      "text/plain": [
       "[15, 65, 0, 160000]"
      ]
     },
     "execution_count": 68,
     "metadata": {},
     "output_type": "execute_result"
    },
    {
     "data": {
      "image/png": "[encoded data removed]",
      "text/plain": [
       "<Figure size 432x288 with 1 Axes>"
      ]
     },
     "metadata": {
      "needs_background": "light"
     },
     "output_type": "display_data"
    }
   ],
   "source": [
    "plot_scatter_with_labels(data[\"Age\"],\n",
    "                         data[\"EstimatedSalary\"], \n",
    "                         data[\"Purchased\"])\n",
    "plot_decision_boundary(svmgauss_clf, [-3, 3, -3, 3], inverse=True)\n",
    "plt.axis([15, 65, 0, 160000])"
   ]
  },
  {
   "cell_type": "markdown",
   "metadata": {},
   "source": [
    "And report that our classifier can predict 94% of the customers if they will purchase or not correctly based on their salary and age.\n",
    "Also we can report that Gender is not a critical factor in the prediction and the company does not need to collect that information in the future."
   ]
  },
  {
   "cell_type": "markdown",
   "metadata": {},
   "source": [
    "## Building Pipelines\n",
    "In sklearn, you can build a \"Pipeline\", to do some process sequencially.\n",
    "\n",
    "Below we are building a pipeline using our best choice of classifiers, and then train it on all the data we have:"
   ]
  },
  {
   "cell_type": "code",
   "execution_count": 69,
   "metadata": {},
   "outputs": [
    {
     "data": {
      "text/plain": [
       "Pipeline(memory=None,\n",
       "     steps=[('std_scaler', StandardScaler(copy=True, with_mean=True, with_std=True)), ('svm_gauss_clf', SVC(C=1, cache_size=200, class_weight=None, coef0=0.0,\n",
       "  decision_function_shape='ovr', degree=3, gamma=1, kernel='rbf',\n",
       "  max_iter=-1, probability=False, random_state=None, shrinking=True,\n",
       "  tol=0.001, verbose=False))])"
      ]
     },
     "execution_count": 69,
     "metadata": {},
     "output_type": "execute_result"
    }
   ],
   "source": [
    "from sklearn.pipeline import Pipeline\n",
    "\n",
    "full_pipeline = Pipeline([\n",
    "    ('std_scaler', StandardScaler()),\n",
    "    ('svm_gauss_clf', SVC(kernel=\"rbf\", gamma=1, C=1)),\n",
    "])\n",
    "\n",
    "full_pipeline.fit(data[[\"Age\", \"EstimatedSalary\"]], data[\"Purchased\"])"
   ]
  },
  {
   "cell_type": "markdown",
   "metadata": {},
   "source": [
    "This `full_pipeline` is the final model that we are going to launch. Not let's make some predictions using this model for some future cutomers (The first one is me):"
   ]
  },
  {
   "cell_type": "code",
   "execution_count": 70,
   "metadata": {},
   "outputs": [
    {
     "data": {
      "text/html": [
       "<div>\n",
       "<style scoped>\n",
       "    .dataframe tbody tr th:only-of-type {\n",
       "        vertical-align: middle;\n",
       "    }\n",
       "\n",
       "    .dataframe tbody tr th {\n",
       "        vertical-align: top;\n",
       "    }\n",
       "\n",
       "    .dataframe thead th {\n",
       "        text-align: right;\n",
       "    }\n",
       "</style>\n",
       "<table border=\"1\" class=\"dataframe\">\n",
       "  <thead>\n",
       "    <tr style=\"text-align: right;\">\n",
       "      <th></th>\n",
       "      <th>Age</th>\n",
       "      <th>EstimatedSalary</th>\n",
       "    </tr>\n",
       "  </thead>\n",
       "  <tbody>\n",
       "    <tr>\n",
       "      <th>0</th>\n",
       "      <td>27.0</td>\n",
       "      <td>24000.0</td>\n",
       "    </tr>\n",
       "    <tr>\n",
       "      <th>1</th>\n",
       "      <td>55.0</td>\n",
       "      <td>60000.0</td>\n",
       "    </tr>\n",
       "  </tbody>\n",
       "</table>\n",
       "</div>"
      ],
      "text/plain": [
       "    Age  EstimatedSalary\n",
       "0  27.0          24000.0\n",
       "1  55.0          60000.0"
      ]
     },
     "execution_count": 70,
     "metadata": {},
     "output_type": "execute_result"
    }
   ],
   "source": [
    "X_new_customers = pd.DataFrame({'Age':  [27., 55.], 'EstimatedSalary': [24000., 60000.]})\n",
    "X_new_customers"
   ]
  },
  {
   "cell_type": "code",
   "execution_count": 71,
   "metadata": {},
   "outputs": [
    {
     "data": {
      "text/plain": [
       "array(['Not Purchased', 'Purchased'], dtype=object)"
      ]
     },
     "execution_count": 71,
     "metadata": {},
     "output_type": "execute_result"
    }
   ],
   "source": [
    "full_pipeline.predict(X_new_customers)"
   ]
  },
  {
   "cell_type": "markdown",
   "metadata": {},
   "source": [
    "The classifier tells us that I will not be purchasing a car. That sounds correct cuz I can't afford it!"
   ]
  },
  {
   "cell_type": "markdown",
   "metadata": {},
   "source": [
    "# More Learning Resources\n",
    "\n",
    "If you want to learn more about practical machine learning in Python, you should checkout Hands-On Machine Learning with Scikit-Learn, Keras & TensorFlow by Aurélien Géron: https://www.oreilly.com/library/view/hands-on-machine-learning/9781492032632/ . \n",
    "\n",
    "Be sure to work through Chapter 2, where you will do an end-to-end ML project on a Regression problem. Actually, I based my tutorial on that chapter! You will defintely learn more by reading the book.\n",
    "\n",
    "UBC students can read the online version for free. The author also uploaded all his Notebooks to Github, open sourced for everyone to download and learn."
   ]
  }
 ],
 "metadata": {
  "kernelspec": {
   "display_name": "Python 3",
   "language": "python",
   "name": "python3"
  },
  "language_info": {
   "codemirror_mode": {
    "name": "ipython",
    "version": 3
   },
   "file_extension": ".py",
   "mimetype": "text/x-python",
   "name": "python",
   "nbconvert_exporter": "python",
   "pygments_lexer": "ipython3",
   "version": "3.6.5"
  }
 },
 "nbformat": 4,
 "nbformat_minor": 2
}
